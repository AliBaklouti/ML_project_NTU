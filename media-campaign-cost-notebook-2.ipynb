{
 "cells": [
  {
   "cell_type": "markdown",
   "id": "156423e8",
   "metadata": {
    "papermill": {
     "duration": 0.023079,
     "end_time": "2024-03-04T10:41:46.352833",
     "exception": false,
     "start_time": "2024-03-04T10:41:46.329754",
     "status": "completed"
    },
    "tags": []
   },
   "source": [
    "# Part 1: Setup\n",
    "## Imports"
   ]
  },
  {
   "cell_type": "code",
   "execution_count": 1,
   "id": "06ecfc3e",
   "metadata": {
    "_cell_guid": "b1076dfc-b9ad-4769-8c92-a6c4dae69d19",
    "_uuid": "8f2839f25d086af736a60e9eeb907d3b93b6e0e5",
    "execution": {
     "iopub.execute_input": "2024-03-04T10:41:46.399253Z",
     "iopub.status.busy": "2024-03-04T10:41:46.398501Z",
     "iopub.status.idle": "2024-03-04T10:41:49.440058Z",
     "shell.execute_reply": "2024-03-04T10:41:49.439108Z"
    },
    "papermill": {
     "duration": 3.067848,
     "end_time": "2024-03-04T10:41:49.442890",
     "exception": false,
     "start_time": "2024-03-04T10:41:46.375042",
     "status": "completed"
    },
    "tags": []
   },
   "outputs": [],
   "source": [
    "import numpy as np # linear algebra\n",
    "import pandas as pd # data processing, CSV file I/O (e.g. pd.read_csv)\n",
    "import matplotlib as mpl\n",
    "import matplotlib.pyplot as plt\n",
    "import seaborn as sns\n",
    "import sklearn\n",
    "import scipy\n",
    "from tqdm.auto import tqdm"
   ]
  },
  {
   "cell_type": "code",
   "execution_count": 2,
   "id": "b42d4d59",
   "metadata": {
    "execution": {
     "iopub.execute_input": "2024-03-04T10:41:49.490206Z",
     "iopub.status.busy": "2024-03-04T10:41:49.489573Z",
     "iopub.status.idle": "2024-03-04T10:41:50.593005Z",
     "shell.execute_reply": "2024-03-04T10:41:50.591315Z"
    },
    "papermill": {
     "duration": 1.130669,
     "end_time": "2024-03-04T10:41:50.596884",
     "exception": false,
     "start_time": "2024-03-04T10:41:49.466215",
     "status": "completed"
    },
    "tags": []
   },
   "outputs": [
    {
     "name": "stdout",
     "output_type": "stream",
     "text": [
      "media-campaign-cost-prediction\tplayground-series-s3e11\r\n"
     ]
    }
   ],
   "source": [
    "!ls /kaggle/input"
   ]
  },
  {
   "cell_type": "code",
   "execution_count": 3,
   "id": "0862a5a7",
   "metadata": {
    "execution": {
     "iopub.execute_input": "2024-03-04T10:41:50.651530Z",
     "iopub.status.busy": "2024-03-04T10:41:50.650764Z",
     "iopub.status.idle": "2024-03-04T10:41:50.659146Z",
     "shell.execute_reply": "2024-03-04T10:41:50.657440Z"
    },
    "papermill": {
     "duration": 0.037373,
     "end_time": "2024-03-04T10:41:50.661757",
     "exception": false,
     "start_time": "2024-03-04T10:41:50.624384",
     "status": "completed"
    },
    "tags": []
   },
   "outputs": [],
   "source": [
    "import warnings\n",
    "warnings.simplefilter(action='ignore', category=FutureWarning)\n",
    "warnings.simplefilter(action='ignore', category=UserWarning)"
   ]
  },
  {
   "cell_type": "markdown",
   "id": "0e3358e1",
   "metadata": {
    "papermill": {
     "duration": 0.024563,
     "end_time": "2024-03-04T10:41:50.717528",
     "exception": false,
     "start_time": "2024-03-04T10:41:50.692965",
     "status": "completed"
    },
    "tags": []
   },
   "source": [
    "## Data ingest"
   ]
  },
  {
   "cell_type": "code",
   "execution_count": 4,
   "id": "b24f10ce",
   "metadata": {
    "execution": {
     "iopub.execute_input": "2024-03-04T10:41:50.768254Z",
     "iopub.status.busy": "2024-03-04T10:41:50.767877Z",
     "iopub.status.idle": "2024-03-04T10:41:53.033027Z",
     "shell.execute_reply": "2024-03-04T10:41:53.031673Z"
    },
    "papermill": {
     "duration": 2.292626,
     "end_time": "2024-03-04T10:41:53.036019",
     "exception": false,
     "start_time": "2024-03-04T10:41:50.743393",
     "status": "completed"
    },
    "tags": []
   },
   "outputs": [],
   "source": [
    "train_df = pd.read_csv('/kaggle/input/playground-series-s3e11/train.csv', index_col='id')\n",
    "test_df = pd.read_csv('/kaggle/input/playground-series-s3e11/test.csv', index_col='id')\n",
    "original_df = pd.read_csv('/kaggle/input/media-campaign-cost-prediction/train_dataset.csv')"
   ]
  },
  {
   "cell_type": "code",
   "execution_count": 5,
   "id": "cdf563a6",
   "metadata": {
    "execution": {
     "iopub.execute_input": "2024-03-04T10:41:53.083087Z",
     "iopub.status.busy": "2024-03-04T10:41:53.082661Z",
     "iopub.status.idle": "2024-03-04T10:41:53.091943Z",
     "shell.execute_reply": "2024-03-04T10:41:53.090736Z"
    },
    "papermill": {
     "duration": 0.035751,
     "end_time": "2024-03-04T10:41:53.094737",
     "exception": false,
     "start_time": "2024-03-04T10:41:53.058986",
     "status": "completed"
    },
    "tags": []
   },
   "outputs": [
    {
     "data": {
      "text/plain": [
       "True"
      ]
     },
     "execution_count": 5,
     "metadata": {},
     "output_type": "execute_result"
    }
   ],
   "source": [
    "(train_df.columns == original_df.columns).all()"
   ]
  },
  {
   "cell_type": "markdown",
   "id": "43abe698",
   "metadata": {
    "papermill": {
     "duration": 0.021859,
     "end_time": "2024-03-04T10:41:53.139402",
     "exception": false,
     "start_time": "2024-03-04T10:41:53.117543",
     "status": "completed"
    },
    "tags": []
   },
   "source": [
    "Train has a \"cost\" column that is our y-values, test does not (we have to predict the cost). \"Original\" is much smaller than train, which was generated from it, but is the \"real\" ground truth."
   ]
  },
  {
   "cell_type": "code",
   "execution_count": 6,
   "id": "88eb3d0a",
   "metadata": {
    "execution": {
     "iopub.execute_input": "2024-03-04T10:41:53.185986Z",
     "iopub.status.busy": "2024-03-04T10:41:53.185566Z",
     "iopub.status.idle": "2024-03-04T10:41:53.204073Z",
     "shell.execute_reply": "2024-03-04T10:41:53.202909Z"
    },
    "papermill": {
     "duration": 0.045437,
     "end_time": "2024-03-04T10:41:53.207009",
     "exception": false,
     "start_time": "2024-03-04T10:41:53.161572",
     "status": "completed"
    },
    "tags": []
   },
   "outputs": [],
   "source": [
    "train_df['log_cost'] = np.log1p(train_df['cost'])\n",
    "original_df['log_cost'] = np.log1p(original_df['cost'])"
   ]
  },
  {
   "cell_type": "markdown",
   "id": "fd05b785",
   "metadata": {
    "papermill": {
     "duration": 0.021889,
     "end_time": "2024-03-04T10:41:53.251353",
     "exception": false,
     "start_time": "2024-03-04T10:41:53.229464",
     "status": "completed"
    },
    "tags": []
   },
   "source": [
    "We want to fit the log_cost, not the cost, as the kaggle accuracy is MSE of log cost."
   ]
  },
  {
   "cell_type": "code",
   "execution_count": 7,
   "id": "97896683",
   "metadata": {
    "execution": {
     "iopub.execute_input": "2024-03-04T10:41:53.300369Z",
     "iopub.status.busy": "2024-03-04T10:41:53.299902Z",
     "iopub.status.idle": "2024-03-04T10:41:53.312061Z",
     "shell.execute_reply": "2024-03-04T10:41:53.310823Z"
    },
    "papermill": {
     "duration": 0.038918,
     "end_time": "2024-03-04T10:41:53.314767",
     "exception": false,
     "start_time": "2024-03-04T10:41:53.275849",
     "status": "completed"
    },
    "tags": []
   },
   "outputs": [],
   "source": [
    "train_df['salad_bar & prepared_food'] = train_df['salad_bar'] + train_df['prepared_food']\n",
    "original_df['salad_bar & prepared_food'] = original_df['salad_bar'] + original_df['prepared_food']\n",
    "test_df['salad_bar & prepared_food'] = test_df['salad_bar'] + test_df['prepared_food']"
   ]
  },
  {
   "cell_type": "markdown",
   "id": "ca35a70d",
   "metadata": {
    "papermill": {
     "duration": 0.021764,
     "end_time": "2024-03-04T10:41:53.359792",
     "exception": false,
     "start_time": "2024-03-04T10:41:53.338028",
     "status": "completed"
    },
    "tags": []
   },
   "source": [
    "## Part 3: Feature selection"
   ]
  },
  {
   "cell_type": "code",
   "execution_count": 8,
   "id": "7286f09a",
   "metadata": {
    "execution": {
     "iopub.execute_input": "2024-03-04T10:41:53.406265Z",
     "iopub.status.busy": "2024-03-04T10:41:53.405878Z",
     "iopub.status.idle": "2024-03-04T10:41:53.411669Z",
     "shell.execute_reply": "2024-03-04T10:41:53.410492Z"
    },
    "papermill": {
     "duration": 0.031888,
     "end_time": "2024-03-04T10:41:53.414253",
     "exception": false,
     "start_time": "2024-03-04T10:41:53.382365",
     "status": "completed"
    },
    "tags": []
   },
   "outputs": [],
   "source": [
    "selected_features = [\n",
    "    'unit_sales(in millions)',\n",
    "    'total_children',\n",
    "    'num_children_at_home',\n",
    "    'avg_cars_at home(approx).1',\n",
    "    'store_sqft',\n",
    "    'coffee_bar',\n",
    "    'video_store',\n",
    "    'salad_bar & prepared_food', \n",
    "    'florist'\n",
    "]\n",
    "selected_features2 = selected_features[1:]"
   ]
  },
  {
   "cell_type": "markdown",
   "id": "4e0922c1",
   "metadata": {
    "papermill": {
     "duration": 0.021793,
     "end_time": "2024-03-04T10:41:53.458146",
     "exception": false,
     "start_time": "2024-03-04T10:41:53.436353",
     "status": "completed"
    },
    "tags": []
   },
   "source": [
    "## Part 2: Set up CV function"
   ]
  },
  {
   "cell_type": "code",
   "execution_count": 9,
   "id": "5e6c77f5",
   "metadata": {
    "execution": {
     "iopub.execute_input": "2024-03-04T10:41:53.505589Z",
     "iopub.status.busy": "2024-03-04T10:41:53.505152Z",
     "iopub.status.idle": "2024-03-04T10:41:53.520665Z",
     "shell.execute_reply": "2024-03-04T10:41:53.519266Z"
    },
    "papermill": {
     "duration": 0.042723,
     "end_time": "2024-03-04T10:41:53.523595",
     "exception": false,
     "start_time": "2024-03-04T10:41:53.480872",
     "status": "completed"
    },
    "tags": []
   },
   "outputs": [],
   "source": [
    "def cross_validate(model, train_df, original_df=None, selected_features=selected_features, fit_params={}, refit=True):\n",
    "    kf = KFold(shuffle=True, random_state = 42)\n",
    "    folds = list(kf.split(train_df))\n",
    "    \n",
    "    collected_scores = []\n",
    "    for fold_train_idx, fold_test_idx in tqdm(folds):\n",
    "        if not refit:\n",
    "            print(\"skip CV as refit=False\")\n",
    "            break\n",
    "        if original_df is None:\n",
    "            fold_train = train_df.loc[fold_train_idx]\n",
    "        else:\n",
    "            fold_train = pd.concat((train_df.loc[fold_train_idx], original_df))\n",
    "        fold_test = train_df.loc[fold_test_idx]\n",
    "            \n",
    "        if 'sample_weight' not in fold_train.columns:\n",
    "            fold_train = fold_train\\\n",
    "                .groupby(selected_features)\\\n",
    "                ['log_cost']\\\n",
    "                .agg(['mean', 'count'])\\\n",
    "                .rename(columns={'mean': 'log_cost', 'count': 'sample_weight'})\\\n",
    "                .reset_index()\n",
    "\n",
    "        fold_train_x = fold_train[selected_features]\n",
    "        fold_train_y = fold_train['log_cost']\n",
    "        fold_train_sample_weight = fold_train['sample_weight']\n",
    "        \n",
    "        model.fit(fold_train_x, fold_train_y, final__sample_weight=fold_train_sample_weight, **fit_params)\n",
    "        \n",
    "        fold_test_x = fold_test[selected_features]\n",
    "        fold_test_y = fold_test['log_cost']\n",
    "        \n",
    "        fold_test_y_pred = model.predict(fold_test_x)\n",
    "        score = mean_squared_error(fold_test_y, fold_test_y_pred, squared=False)\n",
    "        collected_scores.append(score)\n",
    "    \n",
    "    train_df = pd.concat((train_df, original_df)) if original_df is not None else train_df\n",
    "    if 'sample_weight' not in train_df.columns:\n",
    "        train_df = train_df\\\n",
    "            .groupby(selected_features)\\\n",
    "            ['log_cost']\\\n",
    "            .agg(['mean', 'count'])\\\n",
    "            .rename(columns={'mean': 'log_cost', 'count': 'sample_weight'})\\\n",
    "            .reset_index()\n",
    "    train_x = train_df[selected_features]\n",
    "    train_y = train_df['log_cost']\n",
    "    train_sample_weight = train_df['sample_weight']\n",
    "    model.fit(train_x, train_y, final__sample_weight=train_sample_weight, **fit_params)\n",
    "\n",
    "    overall_score = np.array(collected_scores).mean()\n",
    "    print(overall_score)\n",
    "    return overall_score"
   ]
  },
  {
   "cell_type": "code",
   "execution_count": 10,
   "id": "a4c11fd9",
   "metadata": {
    "execution": {
     "iopub.execute_input": "2024-03-04T10:41:53.569497Z",
     "iopub.status.busy": "2024-03-04T10:41:53.569051Z",
     "iopub.status.idle": "2024-03-04T10:41:53.766906Z",
     "shell.execute_reply": "2024-03-04T10:41:53.765594Z"
    },
    "papermill": {
     "duration": 0.22419,
     "end_time": "2024-03-04T10:41:53.769880",
     "exception": false,
     "start_time": "2024-03-04T10:41:53.545690",
     "status": "completed"
    },
    "tags": []
   },
   "outputs": [],
   "source": [
    "from sklearn.preprocessing import OneHotEncoder, PolynomialFeatures\n",
    "from sklearn.pipeline import make_pipeline, Pipeline\n",
    "from sklearn.compose import ColumnTransformer\n",
    "from sklearn.model_selection import GridSearchCV, RandomizedSearchCV, KFold\n",
    "from sklearn.metrics import mean_squared_error"
   ]
  },
  {
   "cell_type": "markdown",
   "id": "c7fec8bc",
   "metadata": {
    "papermill": {
     "duration": 0.021725,
     "end_time": "2024-03-04T10:41:53.813808",
     "exception": false,
     "start_time": "2024-03-04T10:41:53.792083",
     "status": "completed"
    },
    "tags": []
   },
   "source": [
    "## Part 4: Can we replicate the ridge regression RMSLE?"
   ]
  },
  {
   "cell_type": "code",
   "execution_count": 11,
   "id": "0f23560d",
   "metadata": {
    "execution": {
     "iopub.execute_input": "2024-03-04T10:41:53.859779Z",
     "iopub.status.busy": "2024-03-04T10:41:53.859333Z",
     "iopub.status.idle": "2024-03-04T10:41:53.989110Z",
     "shell.execute_reply": "2024-03-04T10:41:53.987286Z"
    },
    "papermill": {
     "duration": 0.155822,
     "end_time": "2024-03-04T10:41:53.991674",
     "exception": true,
     "start_time": "2024-03-04T10:41:53.835852",
     "status": "failed"
    },
    "tags": []
   },
   "outputs": [
    {
     "name": "stderr",
     "output_type": "stream",
     "text": [
      "UsageError: Line magic function `%%time` not found.\n"
     ]
    }
   ],
   "source": [
    "from sklearn.linear_model import Ridge\n",
    "%%time\n",
    "model = Pipeline(\n",
    "    steps=[\n",
    "        ('ct', ColumnTransformer([('ohe', OneHotEncoder(drop='first'), \n",
    "                                   ['total_children',\n",
    "                                    'num_children_at_home',\n",
    "                                    'avg_cars_at home(approx).1',\n",
    "                                    'store_sqft'])],\n",
    "                                 remainder='passthrough')),\n",
    "        ('pf', PolynomialFeatures(3, interaction_only=True, include_bias=False)),\n",
    "        ('final', Ridge(random_state=1))\n",
    "    ])\n",
    "cross_validate(model, train_df, original_df, selected_features=selected_features2).mean()"
   ]
  },
  {
   "cell_type": "code",
   "execution_count": null,
   "id": "f39ce59d",
   "metadata": {
    "execution": {
     "iopub.execute_input": "2024-03-04T08:39:01.944209Z",
     "iopub.status.busy": "2024-03-04T08:39:01.943173Z",
     "iopub.status.idle": "2024-03-04T08:39:03.602344Z",
     "shell.execute_reply": "2024-03-04T08:39:03.601292Z",
     "shell.execute_reply.started": "2024-03-04T08:39:01.944176Z"
    },
    "papermill": {
     "duration": null,
     "end_time": null,
     "exception": null,
     "start_time": null,
     "status": "pending"
    },
    "tags": []
   },
   "outputs": [],
   "source": [
    "test_df['log_cost'] = model.predict(test_df[selected_features2])\n",
    "test_df['cost'] = np.expm1(np.mean(test_df[['log_cost']], axis=1))\n",
    "test_df['cost'].to_csv('/kaggle/working/predict_ridge_poly_oh_some.csv')"
   ]
  },
  {
   "cell_type": "code",
   "execution_count": null,
   "id": "6c77f48c",
   "metadata": {
    "execution": {
     "iopub.execute_input": "2024-03-04T08:39:03.604406Z",
     "iopub.status.busy": "2024-03-04T08:39:03.603507Z",
     "iopub.status.idle": "2024-03-04T08:39:03.609404Z",
     "shell.execute_reply": "2024-03-04T08:39:03.608483Z",
     "shell.execute_reply.started": "2024-03-04T08:39:03.604373Z"
    },
    "papermill": {
     "duration": null,
     "end_time": null,
     "exception": null,
     "start_time": null,
     "status": "pending"
    },
    "tags": []
   },
   "outputs": [],
   "source": [
    "model_rr = model"
   ]
  },
  {
   "cell_type": "markdown",
   "id": "3801a1ca",
   "metadata": {
    "papermill": {
     "duration": null,
     "end_time": null,
     "exception": null,
     "start_time": null,
     "status": "pending"
    },
    "tags": []
   },
   "source": [
    "### Part 5: Can we try manually tuning the hyperparameters w/ an LGBM?"
   ]
  },
  {
   "cell_type": "code",
   "execution_count": null,
   "id": "d2e9cd09",
   "metadata": {
    "execution": {
     "iopub.execute_input": "2024-03-04T08:39:03.612579Z",
     "iopub.status.busy": "2024-03-04T08:39:03.611466Z",
     "iopub.status.idle": "2024-03-04T08:39:03.626757Z",
     "shell.execute_reply": "2024-03-04T08:39:03.625660Z",
     "shell.execute_reply.started": "2024-03-04T08:39:03.612545Z"
    },
    "papermill": {
     "duration": null,
     "end_time": null,
     "exception": null,
     "start_time": null,
     "status": "pending"
    },
    "tags": []
   },
   "outputs": [],
   "source": [
    "from lightgbm import LGBMRegressor\n",
    "lgbm_params = {'learning_rate': 0.1,\n",
    "               'tree_method': 'hist',\n",
    "               'random_state': 1,\n",
    "               'eval_metric': 'rmse',\n",
    "               'categorical_feature': [selected_features.index('store_sqft')],\n",
    "               'verbose': -1,\n",
    "               'n_estimators': 450,\n",
    "                'num_leaves': 100,\n",
    "                'min_child_samples': 1,\n",
    "                'min_child_weight': 1e1,}\n",
    "\"\"\"\n",
    "lgbm_tuned_params = {\n",
    "    'n_estimators': np.linspace(20, 1000, 100).astype(int),\n",
    "    'num_leaves': np.linspace(20, 1000, 100).astype(int),\n",
    "    'min_child_weight': np.linspace(0, 5, 100).astype(int),\n",
    "}\n",
    "lgbmr = LGBMRegressor(**lgbm_params)\n",
    "cv_lgbm = RandomizedSearchCV(lgbmr,\n",
    "                             lgbm_tuned_params,\n",
    "                             n_jobs=8,\n",
    "                             n_iter=20,\n",
    "                             verbose=3,\n",
    "                             scoring='neg_root_mean_squared_error')\n",
    "cv_lgbm.fit(X=train_df_dedup[selected_features],\n",
    "            y=train_df_dedup['log_cost'],\n",
    "            sample_weight=train_df_dedup['sample_weight'])\n",
    "\"\"\""
   ]
  },
  {
   "cell_type": "code",
   "execution_count": null,
   "id": "a14cf972",
   "metadata": {
    "execution": {
     "iopub.execute_input": "2024-03-04T08:39:03.628656Z",
     "iopub.status.busy": "2024-03-04T08:39:03.628231Z",
     "iopub.status.idle": "2024-03-04T08:39:24.643117Z",
     "shell.execute_reply": "2024-03-04T08:39:24.641732Z",
     "shell.execute_reply.started": "2024-03-04T08:39:03.628619Z"
    },
    "papermill": {
     "duration": null,
     "end_time": null,
     "exception": null,
     "start_time": null,
     "status": "pending"
    },
    "tags": []
   },
   "outputs": [],
   "source": [
    "lgbm_params['verbose'] = -1\n",
    "model = Pipeline(\n",
    "    steps=[\n",
    "        ('final', LGBMRegressor(**lgbm_params))\n",
    "#        ('final', LGBMRegressor(**cv_lgbm.best_params_, verbose=-1))\n",
    "    ])\n",
    "score = cross_validate(model, train_df, original_df, selected_features=selected_features).mean()"
   ]
  },
  {
   "cell_type": "code",
   "execution_count": null,
   "id": "00648be1",
   "metadata": {
    "execution": {
     "iopub.execute_input": "2024-03-04T08:39:24.645306Z",
     "iopub.status.busy": "2024-03-04T08:39:24.644926Z",
     "iopub.status.idle": "2024-03-04T08:39:34.408823Z",
     "shell.execute_reply": "2024-03-04T08:39:34.407503Z",
     "shell.execute_reply.started": "2024-03-04T08:39:24.645277Z"
    },
    "papermill": {
     "duration": null,
     "end_time": null,
     "exception": null,
     "start_time": null,
     "status": "pending"
    },
    "tags": []
   },
   "outputs": [],
   "source": [
    "test_df['log_cost'] = model.predict(test_df[selected_features])\n",
    "#test_df['log_cost'] = cv_lgbm.best_estimator_.predict(test_df[selected_features])\n",
    "test_df['cost'] = np.expm1(np.mean(test_df[['log_cost']], axis=1))\n",
    "test_df['cost'].to_csv('predict_lgbm_selected_features.csv')"
   ]
  },
  {
   "cell_type": "code",
   "execution_count": null,
   "id": "01b8f85f",
   "metadata": {
    "execution": {
     "iopub.execute_input": "2024-03-04T08:39:34.410654Z",
     "iopub.status.busy": "2024-03-04T08:39:34.410272Z",
     "iopub.status.idle": "2024-03-04T08:39:34.417168Z",
     "shell.execute_reply": "2024-03-04T08:39:34.415567Z",
     "shell.execute_reply.started": "2024-03-04T08:39:34.410625Z"
    },
    "papermill": {
     "duration": null,
     "end_time": null,
     "exception": null,
     "start_time": null,
     "status": "pending"
    },
    "tags": []
   },
   "outputs": [],
   "source": [
    "model_lgb1 = model"
   ]
  },
  {
   "cell_type": "markdown",
   "id": "1413641a",
   "metadata": {
    "papermill": {
     "duration": null,
     "end_time": null,
     "exception": null,
     "start_time": null,
     "status": "pending"
    },
    "tags": []
   },
   "source": [
    "## Part 6: What about with only the categorical features?"
   ]
  },
  {
   "cell_type": "code",
   "execution_count": null,
   "id": "1d91a2ae",
   "metadata": {
    "execution": {
     "iopub.execute_input": "2024-03-04T08:39:34.419210Z",
     "iopub.status.busy": "2024-03-04T08:39:34.418858Z",
     "iopub.status.idle": "2024-03-04T08:39:34.436769Z",
     "shell.execute_reply": "2024-03-04T08:39:34.435624Z",
     "shell.execute_reply.started": "2024-03-04T08:39:34.419182Z"
    },
    "papermill": {
     "duration": null,
     "end_time": null,
     "exception": null,
     "start_time": null,
     "status": "pending"
    },
    "tags": []
   },
   "outputs": [],
   "source": [
    "from sklearn.model_selection import GridSearchCV, RandomizedSearchCV\n",
    "from lightgbm import LGBMRegressor\n",
    "lgbm_params = {'learning_rate': 0.1,\n",
    "               'tree_method': 'hist',\n",
    "               'random_state': 1,\n",
    "               'eval_metric': 'rmse',\n",
    "               'categorical_feature': [selected_features.index('store_sqft')],\n",
    "               'verbose': -1,\n",
    "               'n_estimators': 450,\n",
    "                'num_leaves': 100,\n",
    "                'min_child_samples': 1,\n",
    "                'min_child_weight': 1e1,}\n",
    "\"\"\"\n",
    "lgbm_tuned_params = {\n",
    "    'n_estimators': np.linspace(20, 1000, 100).astype(int),\n",
    "    'num_leaves': np.linspace(20, 1000, 100).astype(int),\n",
    "    'min_child_weight': np.linspace(0, 5, 100).astype(int),\n",
    "}\n",
    "lgbmr = LGBMRegressor(**lgbm_params)\n",
    "cv_lgbm = RandomizedSearchCV(lgbmr,\n",
    "                             lgbm_tuned_params,\n",
    "                             n_jobs=8,\n",
    "                             n_iter=20,\n",
    "                             verbose=3,\n",
    "                             scoring='neg_root_mean_squared_error')\n",
    "cv_lgbm.fit(X=train_df_dedup[selected_features2],\n",
    "            y=train_df_dedup['log_cost'],\n",
    "            sample_weight=train_df_dedup['sample_weight'])\n",
    "\"\"\""
   ]
  },
  {
   "cell_type": "code",
   "execution_count": null,
   "id": "682b100e",
   "metadata": {
    "execution": {
     "iopub.execute_input": "2024-03-04T08:39:34.438544Z",
     "iopub.status.busy": "2024-03-04T08:39:34.438205Z",
     "iopub.status.idle": "2024-03-04T08:39:48.225249Z",
     "shell.execute_reply": "2024-03-04T08:39:48.223205Z",
     "shell.execute_reply.started": "2024-03-04T08:39:34.438516Z"
    },
    "papermill": {
     "duration": null,
     "end_time": null,
     "exception": null,
     "start_time": null,
     "status": "pending"
    },
    "tags": []
   },
   "outputs": [],
   "source": [
    "lgbm_params['verbose'] = -1\n",
    "model = Pipeline(\n",
    "    steps=[\n",
    "        ('final', LGBMRegressor(**lgbm_params))\n",
    "#        ('final', LGBMRegressor(**cv_lgbm.best_params_, verbose=-1))\n",
    "    ])\n",
    "score = cross_validate(model, train_df, original_df, selected_features=selected_features2).mean()"
   ]
  },
  {
   "cell_type": "code",
   "execution_count": null,
   "id": "900998a8",
   "metadata": {
    "execution": {
     "iopub.execute_input": "2024-03-04T08:39:48.231264Z",
     "iopub.status.busy": "2024-03-04T08:39:48.230884Z",
     "iopub.status.idle": "2024-03-04T08:39:55.517256Z",
     "shell.execute_reply": "2024-03-04T08:39:55.516110Z",
     "shell.execute_reply.started": "2024-03-04T08:39:48.231234Z"
    },
    "papermill": {
     "duration": null,
     "end_time": null,
     "exception": null,
     "start_time": null,
     "status": "pending"
    },
    "tags": []
   },
   "outputs": [],
   "source": [
    "test_df['log_cost'] = model.predict(test_df[selected_features2])\n",
    "test_df['cost'] = np.expm1(np.mean(test_df[['log_cost']], axis=1))\n",
    "test_df['cost'].to_csv('predict_lgbm_selected_features2.csv')"
   ]
  },
  {
   "cell_type": "code",
   "execution_count": null,
   "id": "aa779bfb",
   "metadata": {
    "execution": {
     "iopub.execute_input": "2024-03-04T08:39:55.519340Z",
     "iopub.status.busy": "2024-03-04T08:39:55.518918Z",
     "iopub.status.idle": "2024-03-04T08:39:55.526771Z",
     "shell.execute_reply": "2024-03-04T08:39:55.524860Z",
     "shell.execute_reply.started": "2024-03-04T08:39:55.519303Z"
    },
    "papermill": {
     "duration": null,
     "end_time": null,
     "exception": null,
     "start_time": null,
     "status": "pending"
    },
    "tags": []
   },
   "outputs": [],
   "source": [
    "model_lgb2 = model "
   ]
  },
  {
   "cell_type": "markdown",
   "id": "d952bc81",
   "metadata": {
    "papermill": {
     "duration": null,
     "end_time": null,
     "exception": null,
     "start_time": null,
     "status": "pending"
    },
    "tags": []
   },
   "source": [
    "## Try ensembling?"
   ]
  },
  {
   "cell_type": "code",
   "execution_count": null,
   "id": "22547c56",
   "metadata": {
    "execution": {
     "iopub.execute_input": "2024-03-04T08:39:55.529744Z",
     "iopub.status.busy": "2024-03-04T08:39:55.528575Z",
     "iopub.status.idle": "2024-03-04T08:39:55.702485Z",
     "shell.execute_reply": "2024-03-04T08:39:55.701315Z",
     "shell.execute_reply.started": "2024-03-04T08:39:55.529684Z"
    },
    "papermill": {
     "duration": null,
     "end_time": null,
     "exception": null,
     "start_time": null,
     "status": "pending"
    },
    "tags": []
   },
   "outputs": [],
   "source": [
    "from sklearn.linear_model import Ridge\n",
    "from sklearn.ensemble import StackingRegressor\n",
    "from sklearn.compose import ColumnTransformer\n",
    "\n",
    "estimators = [\n",
    "    (('ridge_regression', model_rr), selected_features2),\n",
    "    (('lgbm1', model_lgb1), selected_features),\n",
    "    (('lgbm2', model_lgb2), selected_features2)\n",
    "]\n",
    "final_estimator = Ridge(positive=True,\n",
    "                        tol=1e-6,\n",
    "                        alpha=100,\n",
    "                        random_state=1,\n",
    "                        fit_intercept=True)"
   ]
  },
  {
   "cell_type": "code",
   "execution_count": null,
   "id": "fd739eba",
   "metadata": {
    "execution": {
     "iopub.execute_input": "2024-03-04T08:39:55.704670Z",
     "iopub.status.busy": "2024-03-04T08:39:55.704247Z",
     "iopub.status.idle": "2024-03-04T08:39:55.731377Z",
     "shell.execute_reply": "2024-03-04T08:39:55.730432Z",
     "shell.execute_reply.started": "2024-03-04T08:39:55.704629Z"
    },
    "papermill": {
     "duration": null,
     "end_time": null,
     "exception": null,
     "start_time": null,
     "status": "pending"
    },
    "tags": []
   },
   "outputs": [],
   "source": [
    "train_df_merged = pd.concat((train_df, original_df))"
   ]
  },
  {
   "cell_type": "code",
   "execution_count": null,
   "id": "9d5fa222",
   "metadata": {
    "execution": {
     "iopub.execute_input": "2024-03-04T08:39:55.733812Z",
     "iopub.status.busy": "2024-03-04T08:39:55.732511Z",
     "iopub.status.idle": "2024-03-04T08:40:23.298022Z",
     "shell.execute_reply": "2024-03-04T08:40:23.296570Z",
     "shell.execute_reply.started": "2024-03-04T08:39:55.733777Z"
    },
    "papermill": {
     "duration": null,
     "end_time": null,
     "exception": null,
     "start_time": null,
     "status": "pending"
    },
    "tags": []
   },
   "outputs": [],
   "source": [
    "estimator_names = [estimator[0] for estimator, columns in estimators]\n",
    "for estimator, columns in tqdm(estimators):\n",
    "    train_df_merged[estimator[0]] = estimator[1].predict(train_df_merged[columns])"
   ]
  },
  {
   "cell_type": "code",
   "execution_count": null,
   "id": "6065da2e",
   "metadata": {
    "execution": {
     "iopub.execute_input": "2024-03-04T08:40:23.300582Z",
     "iopub.status.busy": "2024-03-04T08:40:23.300082Z",
     "iopub.status.idle": "2024-03-04T08:40:23.550212Z",
     "shell.execute_reply": "2024-03-04T08:40:23.547941Z",
     "shell.execute_reply.started": "2024-03-04T08:40:23.300531Z"
    },
    "papermill": {
     "duration": null,
     "end_time": null,
     "exception": null,
     "start_time": null,
     "status": "pending"
    },
    "tags": []
   },
   "outputs": [],
   "source": [
    "final_estimator.fit(train_df_merged[estimator_names], y=train_df_merged['log_cost'])"
   ]
  },
  {
   "cell_type": "code",
   "execution_count": null,
   "id": "dbba8c6c",
   "metadata": {
    "execution": {
     "iopub.execute_input": "2024-03-04T08:40:23.556641Z",
     "iopub.status.busy": "2024-03-04T08:40:23.552566Z",
     "iopub.status.idle": "2024-03-04T08:40:23.576122Z",
     "shell.execute_reply": "2024-03-04T08:40:23.572911Z",
     "shell.execute_reply.started": "2024-03-04T08:40:23.556583Z"
    },
    "papermill": {
     "duration": null,
     "end_time": null,
     "exception": null,
     "start_time": null,
     "status": "pending"
    },
    "tags": []
   },
   "outputs": [],
   "source": [
    "final_estimator.coef_"
   ]
  },
  {
   "cell_type": "code",
   "execution_count": null,
   "id": "d4c3f9ca",
   "metadata": {
    "execution": {
     "iopub.execute_input": "2024-03-04T08:40:23.583024Z",
     "iopub.status.busy": "2024-03-04T08:40:23.578764Z",
     "iopub.status.idle": "2024-03-04T08:40:39.642091Z",
     "shell.execute_reply": "2024-03-04T08:40:39.640341Z",
     "shell.execute_reply.started": "2024-03-04T08:40:23.582974Z"
    },
    "papermill": {
     "duration": null,
     "end_time": null,
     "exception": null,
     "start_time": null,
     "status": "pending"
    },
    "tags": []
   },
   "outputs": [],
   "source": [
    "estimator_names = [estimator[0] for estimator, columns in estimators]\n",
    "for estimator, columns in tqdm(estimators):\n",
    "    test_df[estimator[0]] = estimator[1].predict(test_df[columns])"
   ]
  },
  {
   "cell_type": "code",
   "execution_count": null,
   "id": "36c3ad8a",
   "metadata": {
    "execution": {
     "iopub.execute_input": "2024-03-04T08:40:39.644313Z",
     "iopub.status.busy": "2024-03-04T08:40:39.643929Z",
     "iopub.status.idle": "2024-03-04T08:40:40.582137Z",
     "shell.execute_reply": "2024-03-04T08:40:40.580769Z",
     "shell.execute_reply.started": "2024-03-04T08:40:39.644282Z"
    },
    "papermill": {
     "duration": null,
     "end_time": null,
     "exception": null,
     "start_time": null,
     "status": "pending"
    },
    "tags": []
   },
   "outputs": [],
   "source": [
    "test_df['log_cost'] = final_estimator.predict(test_df[estimator_names])\n",
    "test_df['cost'] = np.expm1(np.mean(test_df[['log_cost']], axis=1))\n",
    "test_df['cost'].to_csv('/kaggle/working/predict_ensemble1.csv')"
   ]
  },
  {
   "cell_type": "markdown",
   "id": "b3234493",
   "metadata": {
    "papermill": {
     "duration": null,
     "end_time": null,
     "exception": null,
     "start_time": null,
     "status": "pending"
    },
    "tags": []
   },
   "source": [
    "Hmmm... It overfits. Try training on 75pct, then select the final estimators on the last 25pct?"
   ]
  },
  {
   "cell_type": "markdown",
   "id": "8eef511f",
   "metadata": {
    "papermill": {
     "duration": null,
     "end_time": null,
     "exception": null,
     "start_time": null,
     "status": "pending"
    },
    "tags": []
   },
   "source": [
    "## Try refitting?"
   ]
  },
  {
   "cell_type": "code",
   "execution_count": null,
   "id": "e014883a",
   "metadata": {
    "execution": {
     "iopub.execute_input": "2024-03-04T08:40:40.584321Z",
     "iopub.status.busy": "2024-03-04T08:40:40.583965Z",
     "iopub.status.idle": "2024-03-04T08:40:40.592869Z",
     "shell.execute_reply": "2024-03-04T08:40:40.591807Z",
     "shell.execute_reply.started": "2024-03-04T08:40:40.584293Z"
    },
    "papermill": {
     "duration": null,
     "end_time": null,
     "exception": null,
     "start_time": null,
     "status": "pending"
    },
    "tags": []
   },
   "outputs": [],
   "source": [
    "final_estimator = Ridge(positive=True,\n",
    "                        tol=1e-6,\n",
    "                        alpha=0,\n",
    "                        random_state=1,\n",
    "                        fit_intercept=True)"
   ]
  },
  {
   "cell_type": "code",
   "execution_count": null,
   "id": "62c524bd",
   "metadata": {
    "execution": {
     "iopub.execute_input": "2024-03-04T08:40:40.594291Z",
     "iopub.status.busy": "2024-03-04T08:40:40.593958Z",
     "iopub.status.idle": "2024-03-04T08:40:40.701518Z",
     "shell.execute_reply": "2024-03-04T08:40:40.700252Z",
     "shell.execute_reply.started": "2024-03-04T08:40:40.594264Z"
    },
    "papermill": {
     "duration": null,
     "end_time": null,
     "exception": null,
     "start_time": null,
     "status": "pending"
    },
    "tags": []
   },
   "outputs": [],
   "source": [
    "from sklearn.model_selection import train_test_split\n",
    "train_df_train, train_df_test = train_test_split(train_df, test_size=0.25, random_state=1)"
   ]
  },
  {
   "cell_type": "code",
   "execution_count": null,
   "id": "8cfab620",
   "metadata": {
    "execution": {
     "iopub.execute_input": "2024-03-04T08:40:40.703809Z",
     "iopub.status.busy": "2024-03-04T08:40:40.703300Z",
     "iopub.status.idle": "2024-03-04T08:40:44.564542Z",
     "shell.execute_reply": "2024-03-04T08:40:44.562921Z",
     "shell.execute_reply.started": "2024-03-04T08:40:40.703775Z"
    },
    "papermill": {
     "duration": null,
     "end_time": null,
     "exception": null,
     "start_time": null,
     "status": "pending"
    },
    "tags": []
   },
   "outputs": [],
   "source": [
    "for estimator, columns in tqdm(estimators):\n",
    "    cross_validate(estimator[1], train_df_train, None, selected_features=columns, refit=False)"
   ]
  },
  {
   "cell_type": "code",
   "execution_count": null,
   "id": "abb0b59d",
   "metadata": {
    "execution": {
     "iopub.execute_input": "2024-03-04T08:40:44.566953Z",
     "iopub.status.busy": "2024-03-04T08:40:44.566490Z",
     "iopub.status.idle": "2024-03-04T08:40:50.791123Z",
     "shell.execute_reply": "2024-03-04T08:40:50.789750Z",
     "shell.execute_reply.started": "2024-03-04T08:40:44.566911Z"
    },
    "papermill": {
     "duration": null,
     "end_time": null,
     "exception": null,
     "start_time": null,
     "status": "pending"
    },
    "tags": []
   },
   "outputs": [],
   "source": [
    "train_df_merged = train_df_test#pd.concat((train_df, original_df))\n",
    "estimator_names = [estimator[0] for estimator, columns in estimators]\n",
    "for estimator, columns in tqdm(estimators):\n",
    "    train_df_merged[estimator[0]] = estimator[1].predict(train_df_merged[columns])"
   ]
  },
  {
   "cell_type": "code",
   "execution_count": null,
   "id": "b1ee9546",
   "metadata": {
    "execution": {
     "iopub.execute_input": "2024-03-04T08:40:50.793754Z",
     "iopub.status.busy": "2024-03-04T08:40:50.793273Z",
     "iopub.status.idle": "2024-03-04T08:40:50.870918Z",
     "shell.execute_reply": "2024-03-04T08:40:50.869170Z",
     "shell.execute_reply.started": "2024-03-04T08:40:50.793712Z"
    },
    "papermill": {
     "duration": null,
     "end_time": null,
     "exception": null,
     "start_time": null,
     "status": "pending"
    },
    "tags": []
   },
   "outputs": [],
   "source": [
    "final_estimator.fit(train_df_merged[estimator_names], y=train_df_merged['log_cost'])\n",
    "final_estimator.coef_"
   ]
  },
  {
   "cell_type": "code",
   "execution_count": null,
   "id": "0d0095e1",
   "metadata": {
    "execution": {
     "iopub.execute_input": "2024-03-04T08:40:50.876174Z",
     "iopub.status.busy": "2024-03-04T08:40:50.873571Z",
     "iopub.status.idle": "2024-03-04T08:41:07.662413Z",
     "shell.execute_reply": "2024-03-04T08:41:07.660932Z",
     "shell.execute_reply.started": "2024-03-04T08:40:50.876143Z"
    },
    "papermill": {
     "duration": null,
     "end_time": null,
     "exception": null,
     "start_time": null,
     "status": "pending"
    },
    "tags": []
   },
   "outputs": [],
   "source": [
    "estimator_names = [estimator[0] for estimator, columns in estimators]\n",
    "for estimator, columns in tqdm(estimators):\n",
    "    test_df[estimator[0]] = estimator[1].predict(test_df[columns])"
   ]
  },
  {
   "cell_type": "code",
   "execution_count": null,
   "id": "1895ec38",
   "metadata": {
    "execution": {
     "iopub.execute_input": "2024-03-04T08:41:07.664748Z",
     "iopub.status.busy": "2024-03-04T08:41:07.664241Z",
     "iopub.status.idle": "2024-03-04T08:41:08.627612Z",
     "shell.execute_reply": "2024-03-04T08:41:08.626302Z",
     "shell.execute_reply.started": "2024-03-04T08:41:07.664677Z"
    },
    "papermill": {
     "duration": null,
     "end_time": null,
     "exception": null,
     "start_time": null,
     "status": "pending"
    },
    "tags": []
   },
   "outputs": [],
   "source": [
    "test_df['log_cost'] = final_estimator.predict(test_df[estimator_names])\n",
    "test_df['cost'] = np.expm1(np.mean(test_df[['log_cost']], axis=1))\n",
    "test_df['cost'].to_csv('/kaggle/working/predict_ensemble2.csv')"
   ]
  },
  {
   "cell_type": "markdown",
   "id": "541ec15e",
   "metadata": {
    "papermill": {
     "duration": null,
     "end_time": null,
     "exception": null,
     "start_time": null,
     "status": "pending"
    },
    "tags": []
   },
   "source": [
    "Hmmm... Actually consistently worse results..."
   ]
  },
  {
   "cell_type": "markdown",
   "id": "18045c67",
   "metadata": {
    "papermill": {
     "duration": null,
     "end_time": null,
     "exception": null,
     "start_time": null,
     "status": "pending"
    },
    "tags": []
   },
   "source": [
    "# Replicate the Zoo of Models notebook"
   ]
  },
  {
   "cell_type": "code",
   "execution_count": null,
   "id": "c93faa2e",
   "metadata": {
    "execution": {
     "iopub.execute_input": "2024-03-04T08:41:08.632577Z",
     "iopub.status.busy": "2024-03-04T08:41:08.629424Z",
     "iopub.status.idle": "2024-03-04T08:41:08.637401Z",
     "shell.execute_reply": "2024-03-04T08:41:08.636277Z",
     "shell.execute_reply.started": "2024-03-04T08:41:08.632542Z"
    },
    "papermill": {
     "duration": null,
     "end_time": null,
     "exception": null,
     "start_time": null,
     "status": "pending"
    },
    "tags": []
   },
   "outputs": [],
   "source": [
    "estimators = []"
   ]
  },
  {
   "cell_type": "markdown",
   "id": "2da019ce",
   "metadata": {
    "execution": {
     "iopub.execute_input": "2024-03-04T08:27:43.330586Z",
     "iopub.status.busy": "2024-03-04T08:27:43.330162Z",
     "iopub.status.idle": "2024-03-04T08:27:43.341544Z",
     "shell.execute_reply": "2024-03-04T08:27:43.340044Z",
     "shell.execute_reply.started": "2024-03-04T08:27:43.330554Z"
    },
    "papermill": {
     "duration": null,
     "end_time": null,
     "exception": null,
     "start_time": null,
     "status": "pending"
    },
    "tags": []
   },
   "source": [
    "## Model 1: Dart"
   ]
  },
  {
   "cell_type": "code",
   "execution_count": null,
   "id": "077f74b5",
   "metadata": {
    "execution": {
     "iopub.execute_input": "2024-03-04T09:23:09.340628Z",
     "iopub.status.busy": "2024-03-04T09:23:09.340131Z",
     "iopub.status.idle": "2024-03-04T09:23:51.676956Z",
     "shell.execute_reply": "2024-03-04T09:23:51.675462Z",
     "shell.execute_reply.started": "2024-03-04T09:23:09.340596Z"
    },
    "papermill": {
     "duration": null,
     "end_time": null,
     "exception": null,
     "start_time": null,
     "status": "pending"
    },
    "tags": []
   },
   "outputs": [],
   "source": [
    "lgbm_params = {'boosting_type': 'dart',\n",
    "               'learning_rate': 0.3,\n",
    "               'n_estimators': 400,\n",
    "               'num_leaves': 200,\n",
    "               'min_child_samples': 1,\n",
    "               'min_child_weight': 1e2,\n",
    "               #'tree_method': 'hist',\n",
    "               'random_state': 1,\n",
    "               'eval_metric': 'rmse',\n",
    "               #'categorical_feature': [selected_features.index('store_sqft')],\n",
    "              }\n",
    "lgbm_params['verbose'] = -1\n",
    "model = Pipeline(\n",
    "    steps=[\n",
    "        ('final', LGBMRegressor(**lgbm_params))\n",
    "#        ('final', LGBMRegressor(**cv_lgbm.best_params_, verbose=-1))\n",
    "    ])\n",
    "score = cross_validate(model, train_df, original_df, selected_features=selected_features2).mean()"
   ]
  },
  {
   "cell_type": "code",
   "execution_count": null,
   "id": "b1e3b1ab",
   "metadata": {
    "execution": {
     "iopub.execute_input": "2024-03-04T09:21:45.657865Z",
     "iopub.status.busy": "2024-03-04T09:21:45.657299Z",
     "iopub.status.idle": "2024-03-04T09:21:57.559152Z",
     "shell.execute_reply": "2024-03-04T09:21:57.557777Z",
     "shell.execute_reply.started": "2024-03-04T09:21:45.657818Z"
    },
    "papermill": {
     "duration": null,
     "end_time": null,
     "exception": null,
     "start_time": null,
     "status": "pending"
    },
    "tags": []
   },
   "outputs": [],
   "source": [
    "test_df['log_cost'] = model.predict(test_df[selected_features2])\n",
    "#test_df['log_cost'] = cv_lgbm.best_estimator_.predict(test_df[selected_features])\n",
    "test_df['cost'] = np.expm1(np.mean(test_df[['log_cost']], axis=1))\n",
    "test_df['cost'].to_csv('predict_dart.csv')"
   ]
  },
  {
   "cell_type": "code",
   "execution_count": null,
   "id": "66c7cd99",
   "metadata": {
    "execution": {
     "iopub.execute_input": "2024-03-04T09:21:57.561253Z",
     "iopub.status.busy": "2024-03-04T09:21:57.560796Z",
     "iopub.status.idle": "2024-03-04T09:21:57.567158Z",
     "shell.execute_reply": "2024-03-04T09:21:57.565910Z",
     "shell.execute_reply.started": "2024-03-04T09:21:57.561212Z"
    },
    "papermill": {
     "duration": null,
     "end_time": null,
     "exception": null,
     "start_time": null,
     "status": "pending"
    },
    "tags": []
   },
   "outputs": [],
   "source": [
    "model_dart = model"
   ]
  },
  {
   "cell_type": "markdown",
   "id": "e198b0d9",
   "metadata": {
    "papermill": {
     "duration": null,
     "end_time": null,
     "exception": null,
     "start_time": null,
     "status": "pending"
    },
    "tags": []
   },
   "source": [
    "## Model 2: LightGBM"
   ]
  },
  {
   "cell_type": "code",
   "execution_count": null,
   "id": "6ee3b45e",
   "metadata": {
    "execution": {
     "iopub.execute_input": "2024-03-04T10:34:50.032331Z",
     "iopub.status.busy": "2024-03-04T10:34:50.031881Z",
     "iopub.status.idle": "2024-03-04T10:35:04.229707Z",
     "shell.execute_reply": "2024-03-04T10:35:04.228470Z",
     "shell.execute_reply.started": "2024-03-04T10:34:50.032298Z"
    },
    "papermill": {
     "duration": null,
     "end_time": null,
     "exception": null,
     "start_time": null,
     "status": "pending"
    },
    "tags": []
   },
   "outputs": [],
   "source": [
    "from lightgbm import LGBMRegressor\n",
    "\n",
    "lgbm_params = {'learning_rate': 0.1,\n",
    "               'tree_method': 'hist',\n",
    "               'random_state': 1,\n",
    "               'eval_metric': 'rmse',\n",
    "               'categorical_feature': [selected_features.index('store_sqft')],\n",
    "               'verbose': -1,\n",
    "               'n_estimators': 450,\n",
    "                'num_leaves': 100,\n",
    "                'min_child_samples': 1,\n",
    "                'min_child_weight': 1e1,}\n",
    "lgbm_params['verbose'] = -1\n",
    "model = Pipeline(\n",
    "    steps=[\n",
    "        ('final', LGBMRegressor(**lgbm_params))\n",
    "#        ('final', LGBMRegressor(**cv_lgbm.best_params_, verbose=-1))\n",
    "    ])\n",
    "score = cross_validate(model, train_df, original_df, selected_features=selected_features2).mean()"
   ]
  },
  {
   "cell_type": "code",
   "execution_count": null,
   "id": "4e3a5a53",
   "metadata": {
    "execution": {
     "iopub.execute_input": "2024-03-04T10:35:04.233049Z",
     "iopub.status.busy": "2024-03-04T10:35:04.232555Z",
     "iopub.status.idle": "2024-03-04T10:35:11.530854Z",
     "shell.execute_reply": "2024-03-04T10:35:11.529627Z",
     "shell.execute_reply.started": "2024-03-04T10:35:04.233006Z"
    },
    "papermill": {
     "duration": null,
     "end_time": null,
     "exception": null,
     "start_time": null,
     "status": "pending"
    },
    "tags": []
   },
   "outputs": [],
   "source": [
    "test_df['log_cost'] = model.predict(test_df[selected_features2])\n",
    "#test_df['log_cost'] = cv_lgbm.best_estimator_.predict(test_df[selected_features])\n",
    "test_df['cost'] = np.expm1(np.mean(test_df[['log_cost']], axis=1))\n",
    "test_df['cost'].to_csv('predict_lgbm.csv')"
   ]
  },
  {
   "cell_type": "code",
   "execution_count": null,
   "id": "850179e4",
   "metadata": {
    "execution": {
     "iopub.execute_input": "2024-03-04T10:35:11.533117Z",
     "iopub.status.busy": "2024-03-04T10:35:11.532630Z",
     "iopub.status.idle": "2024-03-04T10:35:11.541041Z",
     "shell.execute_reply": "2024-03-04T10:35:11.539966Z",
     "shell.execute_reply.started": "2024-03-04T10:35:11.533075Z"
    },
    "papermill": {
     "duration": null,
     "end_time": null,
     "exception": null,
     "start_time": null,
     "status": "pending"
    },
    "tags": []
   },
   "outputs": [],
   "source": [
    "model_lgbm = model"
   ]
  },
  {
   "cell_type": "markdown",
   "id": "8f3ec45c",
   "metadata": {
    "papermill": {
     "duration": null,
     "end_time": null,
     "exception": null,
     "start_time": null,
     "status": "pending"
    },
    "tags": []
   },
   "source": [
    "## Model 3: Neural network"
   ]
  },
  {
   "cell_type": "code",
   "execution_count": null,
   "id": "97b6642b",
   "metadata": {
    "execution": {
     "iopub.execute_input": "2024-03-04T09:59:48.572406Z",
     "iopub.status.busy": "2024-03-04T09:59:48.571568Z",
     "iopub.status.idle": "2024-03-04T09:59:59.018379Z",
     "shell.execute_reply": "2024-03-04T09:59:59.017281Z",
     "shell.execute_reply.started": "2024-03-04T09:59:48.572371Z"
    },
    "papermill": {
     "duration": null,
     "end_time": null,
     "exception": null,
     "start_time": null,
     "status": "pending"
    },
    "tags": []
   },
   "outputs": [],
   "source": [
    "import numpy as np\n",
    "from sklearn.datasets import make_classification\n",
    "import torch\n",
    "from torch import nn\n",
    "import pytorch_lightning as L"
   ]
  },
  {
   "cell_type": "code",
   "execution_count": null,
   "id": "990112ff",
   "metadata": {
    "execution": {
     "iopub.execute_input": "2024-03-04T09:59:59.020515Z",
     "iopub.status.busy": "2024-03-04T09:59:59.019830Z",
     "iopub.status.idle": "2024-03-04T10:00:15.212585Z",
     "shell.execute_reply": "2024-03-04T10:00:15.211115Z",
     "shell.execute_reply.started": "2024-03-04T09:59:59.020485Z"
    },
    "papermill": {
     "duration": null,
     "end_time": null,
     "exception": null,
     "start_time": null,
     "status": "pending"
    },
    "tags": []
   },
   "outputs": [],
   "source": [
    "!pip install skorch"
   ]
  },
  {
   "cell_type": "code",
   "execution_count": null,
   "id": "c4fa60d7",
   "metadata": {
    "execution": {
     "iopub.execute_input": "2024-03-04T10:00:15.215070Z",
     "iopub.status.busy": "2024-03-04T10:00:15.214622Z",
     "iopub.status.idle": "2024-03-04T10:00:15.286115Z",
     "shell.execute_reply": "2024-03-04T10:00:15.285053Z",
     "shell.execute_reply.started": "2024-03-04T10:00:15.215028Z"
    },
    "papermill": {
     "duration": null,
     "end_time": null,
     "exception": null,
     "start_time": null,
     "status": "pending"
    },
    "tags": []
   },
   "outputs": [],
   "source": [
    "from skorch import NeuralNetRegressor"
   ]
  },
  {
   "cell_type": "code",
   "execution_count": null,
   "id": "ca96a8a4",
   "metadata": {
    "execution": {
     "iopub.execute_input": "2024-03-04T10:09:33.767993Z",
     "iopub.status.busy": "2024-03-04T10:09:33.767115Z",
     "iopub.status.idle": "2024-03-04T10:09:33.781156Z",
     "shell.execute_reply": "2024-03-04T10:09:33.780034Z",
     "shell.execute_reply.started": "2024-03-04T10:09:33.767953Z"
    },
    "papermill": {
     "duration": null,
     "end_time": null,
     "exception": null,
     "start_time": null,
     "status": "pending"
    },
    "tags": []
   },
   "outputs": [],
   "source": [
    "class MyModule(nn.Module):\n",
    "    def __init__(self, num_units=10, nonlin=nn.ReLU):\n",
    "        super().__init__()\n",
    "        self.layers = nn.Sequential(\n",
    "            nn.Linear(38, 256),\n",
    "            nonlin(),\n",
    "            nn.Linear(256, 128),\n",
    "            nonlin(),\n",
    "            nn.Linear(128, 64),\n",
    "            nonlin(),\n",
    "            nn.Linear(64, 64),\n",
    "            nonlin(),\n",
    "            nn.Linear(64, 1),\n",
    "        )\n",
    "        self.double()\n",
    "\n",
    "    def forward(self, X, **kwargs):\n",
    "        X = self.layers(X)\n",
    "        return X\n",
    "\n",
    "model = MyModule()\n",
    "cuda = torch.device('cuda')\n",
    "model = model.to(cuda)\n",
    "net = NeuralNetRegressor(\n",
    "    model,\n",
    "    max_epochs=10,\n",
    "    lr=0.1,\n",
    "    # Shuffle training data on each epoch\n",
    "    iterator_train__shuffle=True,\n",
    "    device='cuda'\n",
    ")"
   ]
  },
  {
   "cell_type": "code",
   "execution_count": null,
   "id": "6c86d011",
   "metadata": {
    "execution": {
     "iopub.execute_input": "2024-03-04T10:09:43.909577Z",
     "iopub.status.busy": "2024-03-04T10:09:43.909161Z",
     "iopub.status.idle": "2024-03-04T10:09:44.009947Z",
     "shell.execute_reply": "2024-03-04T10:09:44.008990Z",
     "shell.execute_reply.started": "2024-03-04T10:09:43.909547Z"
    },
    "papermill": {
     "duration": null,
     "end_time": null,
     "exception": null,
     "start_time": null,
     "status": "pending"
    },
    "tags": []
   },
   "outputs": [],
   "source": [
    "from sklearn.model_selection import train_test_split\n",
    "train_df_train, train_df_test = train_test_split(train_df.astype('float64'), test_size=0.25, random_state=1)"
   ]
  },
  {
   "cell_type": "code",
   "execution_count": null,
   "id": "fc02bc0b",
   "metadata": {
    "execution": {
     "iopub.execute_input": "2024-03-04T10:09:45.291006Z",
     "iopub.status.busy": "2024-03-04T10:09:45.290126Z",
     "iopub.status.idle": "2024-03-04T10:09:45.296809Z",
     "shell.execute_reply": "2024-03-04T10:09:45.295383Z",
     "shell.execute_reply.started": "2024-03-04T10:09:45.290971Z"
    },
    "papermill": {
     "duration": null,
     "end_time": null,
     "exception": null,
     "start_time": null,
     "status": "pending"
    },
    "tags": []
   },
   "outputs": [],
   "source": [
    "model = Pipeline(\n",
    "    steps=[\n",
    "        ('ct', ColumnTransformer([('ohe', OneHotEncoder(drop='first'), \n",
    "                                   selected_features2)],\n",
    "                                 remainder='drop')),\n",
    "        ('final', net)\n",
    "    ])"
   ]
  },
  {
   "cell_type": "code",
   "execution_count": null,
   "id": "7255ca7f",
   "metadata": {
    "execution": {
     "iopub.execute_input": "2024-03-04T10:09:46.478789Z",
     "iopub.status.busy": "2024-03-04T10:09:46.478301Z"
    },
    "papermill": {
     "duration": null,
     "end_time": null,
     "exception": null,
     "start_time": null,
     "status": "pending"
    },
    "tags": []
   },
   "outputs": [],
   "source": [
    "model.fit(train_df_train[selected_features2], train_df_train['log_cost'])"
   ]
  },
  {
   "cell_type": "markdown",
   "id": "db56ffa4",
   "metadata": {
    "papermill": {
     "duration": null,
     "end_time": null,
     "exception": null,
     "start_time": null,
     "status": "pending"
    },
    "tags": []
   },
   "source": [
    "# What about the additional feature engineering?"
   ]
  },
  {
   "cell_type": "code",
   "execution_count": null,
   "id": "12eab1b8",
   "metadata": {
    "execution": {
     "iopub.execute_input": "2024-03-04T10:18:32.396271Z",
     "iopub.status.busy": "2024-03-04T10:18:32.395840Z",
     "iopub.status.idle": "2024-03-04T10:18:32.581444Z",
     "shell.execute_reply": "2024-03-04T10:18:32.579668Z",
     "shell.execute_reply.started": "2024-03-04T10:18:32.396238Z"
    },
    "papermill": {
     "duration": null,
     "end_time": null,
     "exception": null,
     "start_time": null,
     "status": "pending"
    },
    "tags": []
   },
   "outputs": [],
   "source": [
    "for df in [train_df, original_df, test_df]:\n",
    "    df['store_score'] = df[['coffee_bar', 'video_store', 'salad_bar', 'prepared_food', 'florist']].mean(axis=1)\n",
    "    df['store_score_ratio'] = df['store_sqft'] / df['store_score']"
   ]
  },
  {
   "cell_type": "code",
   "execution_count": null,
   "id": "d42cc79b",
   "metadata": {
    "execution": {
     "iopub.execute_input": "2024-03-04T10:18:48.556631Z",
     "iopub.status.busy": "2024-03-04T10:18:48.556125Z",
     "iopub.status.idle": "2024-03-04T10:18:48.562167Z",
     "shell.execute_reply": "2024-03-04T10:18:48.561019Z",
     "shell.execute_reply.started": "2024-03-04T10:18:48.556592Z"
    },
    "papermill": {
     "duration": null,
     "end_time": null,
     "exception": null,
     "start_time": null,
     "status": "pending"
    },
    "tags": []
   },
   "outputs": [],
   "source": [
    "selected_features3 = selected_features2 + ['store_score', 'store_score_ratio']"
   ]
  },
  {
   "cell_type": "code",
   "execution_count": null,
   "id": "48f129f4",
   "metadata": {
    "execution": {
     "iopub.execute_input": "2024-03-04T10:20:30.100772Z",
     "iopub.status.busy": "2024-03-04T10:20:30.099913Z",
     "iopub.status.idle": "2024-03-04T10:20:56.929175Z",
     "shell.execute_reply": "2024-03-04T10:20:56.927970Z",
     "shell.execute_reply.started": "2024-03-04T10:20:30.100731Z"
    },
    "papermill": {
     "duration": null,
     "end_time": null,
     "exception": null,
     "start_time": null,
     "status": "pending"
    },
    "tags": []
   },
   "outputs": [],
   "source": [
    "from lightgbm import LGBMRegressor\n",
    "\n",
    "lgbm_params = {'learning_rate': 0.1,\n",
    "               'tree_method': 'hist',\n",
    "               'random_state': 1,\n",
    "               'eval_metric': 'rmse',\n",
    "               'categorical_feature': [selected_features3.index(i) for i in ['store_sqft', 'store_score', 'store_score_ratio']],\n",
    "               'verbose': -1,\n",
    "               'n_estimators': 450,\n",
    "                'num_leaves': 100,\n",
    "                'min_child_samples': 1,\n",
    "                'min_child_weight': 1e1,}\n",
    "lgbm_params['verbose'] = -1\n",
    "model = Pipeline(\n",
    "    steps=[\n",
    "        ('final', LGBMRegressor(**lgbm_params))\n",
    "#        ('final', LGBMRegressor(**cv_lgbm.best_params_, verbose=-1))\n",
    "    ])\n",
    "score = cross_validate(model, train_df, original_df, selected_features=selected_features3).mean()"
   ]
  },
  {
   "cell_type": "code",
   "execution_count": null,
   "id": "8a5deb8b",
   "metadata": {
    "execution": {
     "iopub.execute_input": "2024-03-04T10:22:45.213941Z",
     "iopub.status.busy": "2024-03-04T10:22:45.212650Z",
     "iopub.status.idle": "2024-03-04T10:22:56.583961Z",
     "shell.execute_reply": "2024-03-04T10:22:56.582665Z",
     "shell.execute_reply.started": "2024-03-04T10:22:45.213890Z"
    },
    "papermill": {
     "duration": null,
     "end_time": null,
     "exception": null,
     "start_time": null,
     "status": "pending"
    },
    "tags": []
   },
   "outputs": [],
   "source": [
    "test_df['log_cost'] = model.predict(test_df[selected_features3])\n",
    "#test_df['log_cost'] = cv_lgbm.best_estimator_.predict(test_df[selected_features])\n",
    "test_df['cost'] = np.expm1(np.mean(test_df[['log_cost']], axis=1))\n",
    "test_df['cost'].to_csv('predict_lgbm_2.csv')"
   ]
  },
  {
   "cell_type": "code",
   "execution_count": null,
   "id": "f3b0281d",
   "metadata": {
    "execution": {
     "iopub.execute_input": "2024-03-04T10:22:56.586494Z",
     "iopub.status.busy": "2024-03-04T10:22:56.585986Z",
     "iopub.status.idle": "2024-03-04T10:22:56.591631Z",
     "shell.execute_reply": "2024-03-04T10:22:56.590002Z",
     "shell.execute_reply.started": "2024-03-04T10:22:56.586456Z"
    },
    "papermill": {
     "duration": null,
     "end_time": null,
     "exception": null,
     "start_time": null,
     "status": "pending"
    },
    "tags": []
   },
   "outputs": [],
   "source": [
    "model_lgbm2 = model"
   ]
  },
  {
   "cell_type": "markdown",
   "id": "94986fa3",
   "metadata": {
    "papermill": {
     "duration": null,
     "end_time": null,
     "exception": null,
     "start_time": null,
     "status": "pending"
    },
    "tags": []
   },
   "source": [
    "## What if we leave the store_score numerical?"
   ]
  },
  {
   "cell_type": "code",
   "execution_count": null,
   "id": "35dd2aa0",
   "metadata": {
    "execution": {
     "iopub.execute_input": "2024-03-04T10:36:20.676214Z",
     "iopub.status.busy": "2024-03-04T10:36:20.675780Z",
     "iopub.status.idle": "2024-03-04T10:36:39.850376Z",
     "shell.execute_reply": "2024-03-04T10:36:39.849278Z",
     "shell.execute_reply.started": "2024-03-04T10:36:20.676183Z"
    },
    "papermill": {
     "duration": null,
     "end_time": null,
     "exception": null,
     "start_time": null,
     "status": "pending"
    },
    "tags": []
   },
   "outputs": [],
   "source": [
    "from lightgbm import LGBMRegressor\n",
    "\n",
    "lgbm_params = {'learning_rate': 0.1,\n",
    "               'tree_method': 'hist',\n",
    "               'random_state': 1,\n",
    "               'eval_metric': 'rmse',\n",
    "               'categorical_feature': [selected_features3.index(i) for i in ['store_sqft', 'store_score']],\n",
    "               'verbose': -1,\n",
    "               'n_estimators': 450,\n",
    "                'num_leaves': 100,\n",
    "                'min_child_samples': 1,\n",
    "                'min_child_weight': 1e1,}\n",
    "lgbm_params['verbose'] = -1\n",
    "model = Pipeline(\n",
    "    steps=[\n",
    "        ('final', LGBMRegressor(**lgbm_params))\n",
    "#        ('final', LGBMRegressor(**cv_lgbm.best_params_, verbose=-1))\n",
    "    ])\n",
    "score = cross_validate(model, train_df, original_df, selected_features=selected_features3).mean()"
   ]
  },
  {
   "cell_type": "code",
   "execution_count": null,
   "id": "f3fecb15",
   "metadata": {
    "execution": {
     "iopub.execute_input": "2024-03-04T10:37:13.542059Z",
     "iopub.status.busy": "2024-03-04T10:37:13.541633Z",
     "iopub.status.idle": "2024-03-04T10:37:24.391720Z",
     "shell.execute_reply": "2024-03-04T10:37:24.390546Z",
     "shell.execute_reply.started": "2024-03-04T10:37:13.542028Z"
    },
    "papermill": {
     "duration": null,
     "end_time": null,
     "exception": null,
     "start_time": null,
     "status": "pending"
    },
    "tags": []
   },
   "outputs": [],
   "source": [
    "test_df['log_cost'] = model.predict(test_df[selected_features3])\n",
    "#test_df['log_cost'] = cv_lgbm.best_estimator_.predict(test_df[selected_features])\n",
    "test_df['cost'] = np.expm1(np.mean(test_df[['log_cost']], axis=1))\n",
    "test_df['cost'].to_csv('predict_lgbm_3.csv')"
   ]
  },
  {
   "cell_type": "code",
   "execution_count": null,
   "id": "eb0e6b53",
   "metadata": {
    "execution": {
     "iopub.execute_input": "2024-03-04T10:37:24.394786Z",
     "iopub.status.busy": "2024-03-04T10:37:24.393738Z",
     "iopub.status.idle": "2024-03-04T10:37:24.400736Z",
     "shell.execute_reply": "2024-03-04T10:37:24.398922Z",
     "shell.execute_reply.started": "2024-03-04T10:37:24.394739Z"
    },
    "papermill": {
     "duration": null,
     "end_time": null,
     "exception": null,
     "start_time": null,
     "status": "pending"
    },
    "tags": []
   },
   "outputs": [],
   "source": [
    "model_lgbm3 = model"
   ]
  },
  {
   "cell_type": "code",
   "execution_count": null,
   "id": "98fc4551",
   "metadata": {
    "papermill": {
     "duration": null,
     "end_time": null,
     "exception": null,
     "start_time": null,
     "status": "pending"
    },
    "tags": []
   },
   "outputs": [],
   "source": []
  }
 ],
 "metadata": {
  "kaggle": {
   "accelerator": "none",
   "dataSources": [
    {
     "databundleVersionId": 5172264,
     "sourceId": 47790,
     "sourceType": "competition"
    },
    {
     "datasetId": 2605336,
     "sourceId": 4449018,
     "sourceType": "datasetVersion"
    }
   ],
   "dockerImageVersionId": 30646,
   "isGpuEnabled": false,
   "isInternetEnabled": true,
   "language": "python",
   "sourceType": "notebook"
  },
  "kernelspec": {
   "display_name": "Python 3",
   "language": "python",
   "name": "python3"
  },
  "language_info": {
   "codemirror_mode": {
    "name": "ipython",
    "version": 3
   },
   "file_extension": ".py",
   "mimetype": "text/x-python",
   "name": "python",
   "nbconvert_exporter": "python",
   "pygments_lexer": "ipython3",
   "version": "3.10.13"
  },
  "papermill": {
   "default_parameters": {},
   "duration": 11.77248,
   "end_time": "2024-03-04T10:41:54.739551",
   "environment_variables": {},
   "exception": true,
   "input_path": "__notebook__.ipynb",
   "output_path": "__notebook__.ipynb",
   "parameters": {},
   "start_time": "2024-03-04T10:41:42.967071",
   "version": "2.5.0"
  }
 },
 "nbformat": 4,
 "nbformat_minor": 5
}
